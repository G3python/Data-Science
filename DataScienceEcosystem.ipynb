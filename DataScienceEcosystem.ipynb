{
 "cells": [
  {
   "cell_type": "markdown",
   "id": "4f6ec331-5adc-4005-801c-eeecd7909724",
   "metadata": {},
   "source": [
    "# H1: Data Science Tools and Ecosystem"
   ]
  },
  {
   "cell_type": "markdown",
   "id": "83522cf0-4c73-4c4a-b6d4-e96aaa389ef9",
   "metadata": {},
   "source": [
    "In this notebook, Data Science Tools and Ecosystem are summarized."
   ]
  },
  {
   "cell_type": "markdown",
   "id": "578b6b5d-11c4-413c-b9a8-2de0d0679f26",
   "metadata": {},
   "source": [
    "**Objectives**\n",
    "- Python\n",
    "- Java\n",
    "- C++\n",
    "- C\n",
    "- SQL"
   ]
  },
  {
   "cell_type": "markdown",
   "id": "a88b16f3-de7e-4ea1-9789-687470f4bc90",
   "metadata": {},
   "source": [
    "Some of the popular languages that Data Scientists use are:\n",
    "1. Python\n",
    "2. Java\n",
    "3. C++"
   ]
  },
  {
   "cell_type": "markdown",
   "id": "a448d8f6-da52-4d11-8405-35a1e95ef49e",
   "metadata": {},
   "source": [
    "Some of the commonly used libraries used by Data Scientists include:\n",
    "1. Matplotlib\n",
    "2. Pandas\n",
    "3. Seaborn"
   ]
  },
  {
   "cell_type": "markdown",
   "id": "a2b11ddf-49e4-4e95-8687-f76bf746790f",
   "metadata": {},
   "source": [
    "|Data Science Tools|\n",
    "|------------------|\n",
    "|Jupyter Notebook|\n",
    "|RStudio|\n",
    "|Visual Studio Code|"
   ]
  },
  {
   "cell_type": "markdown",
   "id": "e5d2d0b2-ca98-442f-9ff3-f5967aa787f8",
   "metadata": {},
   "source": [
    "### Below are a few examples of evaluating arithmetic expressions in Python.\n",
    "50+15"
   ]
  },
  {
   "cell_type": "code",
   "execution_count": 1,
   "id": "f9b668cc-db35-4f5e-acc4-cb69361c5e39",
   "metadata": {},
   "outputs": [
    {
     "data": {
      "text/plain": [
       "65"
      ]
     },
     "execution_count": 1,
     "metadata": {},
     "output_type": "execute_result"
    }
   ],
   "source": [
    "50 + 15"
   ]
  },
  {
   "cell_type": "code",
   "execution_count": 1,
   "id": "381fc235-e177-4411-97c6-ff22d0d874b1",
   "metadata": {},
   "outputs": [
    {
     "data": {
      "text/plain": [
       "17"
      ]
     },
     "execution_count": 1,
     "metadata": {},
     "output_type": "execute_result"
    }
   ],
   "source": [
    "# This a simple arithmetic expression to multiply then add integers.\n",
    "(3*4)+5"
   ]
  },
  {
   "cell_type": "code",
   "execution_count": 3,
   "id": "8ee4ea18-edf7-4827-b20c-92535d4487e6",
   "metadata": {},
   "outputs": [
    {
     "data": {
      "text/plain": [
       "3.3333333333333335"
      ]
     },
     "execution_count": 3,
     "metadata": {},
     "output_type": "execute_result"
    }
   ],
   "source": [
    "# This will convert 200 minutes to hours by divising 60.\n",
    "200/60"
   ]
  },
  {
   "cell_type": "markdown",
   "id": "f2464a67-50fc-4fa0-84fb-99d0c910327c",
   "metadata": {},
   "source": [
    "## Author\n",
    "Abdoulaye Cissé"
   ]
  },
  {
   "cell_type": "code",
   "execution_count": null,
   "id": "80696642-14c8-4845-87bb-8ce79f9e40d4",
   "metadata": {},
   "outputs": [],
   "source": []
  }
 ],
 "metadata": {
  "kernelspec": {
   "display_name": "Python 3 (ipykernel)",
   "language": "python",
   "name": "python3"
  },
  "language_info": {
   "codemirror_mode": {
    "name": "ipython",
    "version": 3
   },
   "file_extension": ".py",
   "mimetype": "text/x-python",
   "name": "python",
   "nbconvert_exporter": "python",
   "pygments_lexer": "ipython3",
   "version": "3.12.8"
  }
 },
 "nbformat": 4,
 "nbformat_minor": 5
}
